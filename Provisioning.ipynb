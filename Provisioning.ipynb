{
 "cells": [
  {
   "cell_type": "code",
   "execution_count": 1,
   "metadata": {
    "pycharm": {
     "metadata": false,
     "name": "#%%\n"
    }
   },
   "outputs": [],
   "source": [
    "def listDirs(newMMARDir):\n",
    "    !ls $newMMARDir\n",
    "    !echo ----config\n",
    "    !ls $newMMARDir/config\n",
    "    !echo ----commands\n",
    "    !ls $newMMARDir/commands\n",
    "def printFile(filePath,lnSt,lnOffset):\n",
    "    print (\"showing \",str(lnOffset),\" lines from file \",filePath, \"starting at line\",str(lnSt))\n",
    "    lnOffset=lnSt+lnOffset\n",
    "    !< $filePath head -n \"$lnOffset\" | tail -n +\"$lnSt\"   "
   ]
  },
  {
   "cell_type": "code",
   "execution_count": 11,
   "metadata": {
    "pycharm": {
     "metadata": false,
     "name": "#%% \n"
    }
   },
   "outputs": [
    {
     "data": {
      "text/html": [
       "\n",
       "        <iframe\n",
       "            width=\"850\"\n",
       "            height=\"700\"\n",
       "            src=\"./provisioning_ui.html\"\n",
       "            frameborder=\"0\"\n",
       "            allowfullscreen\n",
       "        ></iframe>\n",
       "        "
      ],
      "text/plain": [
       "<IPython.lib.display.IFrame at 0x7fbbdbfa90a0>"
      ]
     },
     "execution_count": 11,
     "metadata": {},
     "output_type": "execute_result"
    }
   ],
   "source": [
    "import IPython\n",
    "IPython.display.IFrame('./provisioning_ui.html',width=850,height=700)"
   ]
  },
  {
   "cell_type": "markdown",
   "metadata": {
    "pycharm": {
     "metadata": false
    }
   },
   "source": [
    "### 2 Run Provisioning tool \n",
    "For simplicity we have included a project1.yaml and project1auth.json files for you to use in this notebook.\n",
    "In order to see their content simply run cell below "
   ]
  },
  {
   "cell_type": "code",
   "execution_count": 2,
   "metadata": {},
   "outputs": [
    {
     "name": "stdout",
     "output_type": "stream",
     "text": [
      "/mount/src/clara/Clara_hands-on/NVFlare/with_provision\n"
     ]
    }
   ],
   "source": [
    "!pwd"
   ]
  },
  {
   "cell_type": "code",
   "execution_count": 3,
   "metadata": {
    "pycharm": {
     "metadata": false,
     "name": "#%%\n"
    }
   },
   "outputs": [
    {
     "name": "stdout",
     "output_type": "stream",
     "text": [
      "showing  50  lines from file  /mount/src/clara/Clara_hands-on/NVFlare/with_provision/test.yml starting at line 0\n",
      "api_version: 1\n",
      "\n",
      "# org is to describe each participant's organization\n",
      "# schema change: org is now mandatory\n",
      "\n",
      "# the name of this project\n",
      "name: test\n",
      "\n",
      "# homomorphic encryption\n",
      "he_config:\n",
      "  poly_modulus_degree: 8192\n",
      "  coeff_mod_bit_sizes: [60, 40, 40]\n",
      "  scale_bits: 40\n",
      "  scheme: CKKS\n",
      "\n",
      "config_folder: config\n",
      "\n",
      "# Server enforcing role-based rights on admin users. true means all admin users are in role super\n",
      "disable_authz: false\n",
      "\n",
      "server:\n",
      "  org: nvidia\n",
      "\n",
      "  # set cn to the server's fully qualified domain name\n",
      "  cn: localhost\n",
      "\n",
      "  # replace the number with that all clients can reach out to, and that the server can open to listen to\n",
      "  fed_learn_port: 8002\n",
      "\n",
      "  # again, replace the number with that all clients can reach out to, and that the server can open to listen to\n",
      "  # the value must be different from fed_learn_port\n",
      "  admin_port: 8003\n",
      "\n",
      "  # admin_storage is the mmar upload folder name on the server\n",
      "  admin_storage: transfer\n",
      "\n",
      "  min_num_clients: 1\n",
      "  max_num_clients: 100\n",
      "\n",
      "  # The configuration validator class path.\n",
      "  # Server does not load configuration validator when it's set to empty.\n",
      "  # For example:\n",
      "  #  config_validator:\n",
      "  #\n",
      "  # When it's commented out the default will be used (medl.apps.fed_learn.server.mmar_validator.MMARValidator)\n",
      "  #\n",
      "  # Users can specifiy their own validator.  For example:\n",
      "  # config_validator:\n",
      "  #  hello.world.BestValdator\n",
      "  #\n"
     ]
    }
   ],
   "source": [
    "MMAR_ROOT=\"/mount/src/clara/Clara_hands-on/NVFlare/with_provision/\"\n",
    "PROV_DIR=\"provisioning\"\n",
    "PROJ_NAME=\"test\"\n",
    "\n",
    "printFile(MMAR_ROOT+PROJ_NAME+\".yml\",0,50)"
   ]
  },
  {
   "cell_type": "markdown",
   "metadata": {
    "pycharm": {
     "metadata": false
    }
   },
   "source": [
    "\n",
    "### 2.1 Run provisioning tool\n",
    "Cell below show help on how to use the cli for the provisioning tool "
   ]
  },
  {
   "cell_type": "code",
   "execution_count": 4,
   "metadata": {
    "pycharm": {
     "metadata": false,
     "name": "#%%\n"
    }
   },
   "outputs": [
    {
     "name": "stdout",
     "output_type": "stream",
     "text": [
      "usage: provision [-h] [-p PROJECT_FILE] [-o OUTPUT_DIR] [-n] [-u]\n",
      "\n",
      "optional arguments:\n",
      "  -h, --help            show this help message and exit\n",
      "  -p PROJECT_FILE, --project_file PROJECT_FILE\n",
      "                        file to describe FL project\n",
      "  -o OUTPUT_DIR, --output_dir OUTPUT_DIR\n",
      "                        directory to store all packages\n",
      "  -n, --no_zip_password\n",
      "                        Disable password protection in final zip files\n",
      "  -u, --ui_tool         Run provisioning UI tool to generate project.yml file\n"
     ]
    }
   ],
   "source": [
    "!provision -h"
   ]
  },
  {
   "cell_type": "code",
   "execution_count": 5,
   "metadata": {
    "pycharm": {
     "metadata": false,
     "name": "#%%\n"
    }
   },
   "outputs": [
    {
     "name": "stdout",
     "output_type": "stream",
     "text": [
      "/mount/src/clara/Clara_hands-on/NVFlare/with_provision\n"
     ]
    }
   ],
   "source": [
    "%cd $MMAR_ROOT\n",
    "!rm -r $PROJ_NAME\n",
    "%mkdir -p $PROJ_NAME/$PROV_DIR"
   ]
  },
  {
   "cell_type": "code",
   "execution_count": 6,
   "metadata": {
    "pycharm": {
     "metadata": false,
     "name": "#%%\n"
    }
   },
   "outputs": [
    {
     "name": "stdout",
     "output_type": "stream",
     "text": [
      "/mount/src/clara/Clara_hands-on/NVFlare/with_provision/test\n",
      "Project yaml file: /mount/src/clara/Clara_hands-on/NVFlare/with_provision//test.yml.\n",
      "Env var NVFL_DOCKER_IMAGE not set.  No docker.sh will be generated.\n",
      "┏━━━━━━━━━━━━━━━━━━━━━━━┳━━━━━━━━┳━━━━━━━━━━━━━━━━━━━━━━━━━━┳━━━━━━━━━━━━━━━━━━┓\n",
      "┃\u001b[1;35m \u001b[0m\u001b[1;35mparticipant          \u001b[0m\u001b[1;35m \u001b[0m┃\u001b[1;35m \u001b[0m\u001b[1;35morg   \u001b[0m\u001b[1;35m \u001b[0m┃\u001b[1;35m \u001b[0m\u001b[1;35mdestination             \u001b[0m\u001b[1;35m \u001b[0m┃\u001b[1;35m \u001b[0m\u001b[1;35mpassword        \u001b[0m\u001b[1;35m \u001b[0m┃\n",
      "┡━━━━━━━━━━━━━━━━━━━━━━━╇━━━━━━━━╇━━━━━━━━━━━━━━━━━━━━━━━━━━╇━━━━━━━━━━━━━━━━━━┩\n",
      "│ localhost             │ nvidia │ server.zip               │ SBg20dnNlfoAt8sI │\n",
      "│ org1                  │ org1   │ org1.zip                 │ nK423Ehs8pfIdY15 │\n",
      "│ nvidia                │ nvidia │ nvidia.zip               │ BJ0QqC2wOritzWoh │\n",
      "│ admin@nvidia.com      │ nvidia │ admin@nvidia.com.zip     │ VXAzDgx86Ry1N2h9 │\n",
      "│ researcher@nvidia.com │ nvidia │ researcher@nvidia.com.z… │ FplEYgyuk8W7JqPH │\n",
      "│ researcher@org1.com   │ org1   │ researcher@org1.com.zip  │ A9XlEZQ0h1WLPD3U │\n",
      "└───────────────────────┴────────┴──────────────────────────┴──────────────────┘\n"
     ]
    }
   ],
   "source": [
    "PROJ_PATH=MMAR_ROOT+PROJ_NAME+\"/\"\n",
    "PROV_PATH=PROJ_PATH+PROV_DIR+\"/\"\n",
    "%cd $PROJ_PATH\n",
    "!provision -p $MMAR_ROOT/$PROJ_NAME'.yml' -o $PROV_DIR"
   ]
  },
  {
   "cell_type": "markdown",
   "metadata": {
    "pycharm": {
     "metadata": false
    }
   },
   "source": [
    "### 3. Send startup kits to participants\n",
    "In a real experiment, you would send packages to each site so they would run it on their system. \n",
    "Here we would extract and simulate a server, 3 clients and an admin all in this tutorial. \n",
    "\n",
    "Cell above should have printed out passwords for each package. \n",
    "You should replace the password from above cell to the corresponding file in cell below "
   ]
  },
  {
   "cell_type": "code",
   "execution_count": 7,
   "metadata": {
    "pycharm": {
     "metadata": false,
     "name": "#%%\n"
    }
   },
   "outputs": [
    {
     "name": "stdout",
     "output_type": "stream",
     "text": [
      "/mount/src/clara/Clara_hands-on/NVFlare/with_provision/test/provisioning\n",
      "Archive:  server.zip\n",
      "   creating: ../server/startup/\n",
      "  inflating: ../server/startup/signature.pkl  \n",
      "  inflating: ../server/startup/start.sh  \n",
      "  inflating: ../server/startup/log.config  \n",
      "  inflating: ../server/startup/server.key  \n",
      "  inflating: ../server/startup/rootCA.pem  \n",
      "  inflating: ../server/startup/sub_start.sh  \n",
      "  inflating: ../server/startup/stop_fl.sh  \n",
      "  inflating: ../server/startup/authorization.json  \n",
      "  inflating: ../server/startup/server_context.tenseal  \n",
      "  inflating: ../server/startup/server.crt  \n",
      "  inflating: ../server/startup/fed_server.json  \n",
      "  inflating: ../server/startup/readme.txt  \n",
      "Archive:  org1.zip\n",
      "   creating: ../org1/startup/\n",
      "  inflating: ../org1/startup/signature.pkl  \n",
      "  inflating: ../org1/startup/fed_client.json  \n",
      "  inflating: ../org1/startup/start.sh  \n",
      "  inflating: ../org1/startup/client_context.tenseal  \n",
      "  inflating: ../org1/startup/log.config  \n",
      "  inflating: ../org1/startup/client.key  \n",
      "  inflating: ../org1/startup/rootCA.pem  \n",
      "  inflating: ../org1/startup/sub_start.sh  \n",
      "  inflating: ../org1/startup/stop_fl.sh  \n",
      "  inflating: ../org1/startup/client.crt  \n",
      "  inflating: ../org1/startup/readme.txt  \n",
      "Archive:  admin@nvidia.com.zip\n",
      "   creating: ../admin/startup/\n",
      " extracting: ../admin/startup/signature.pkl  \n",
      "  inflating: ../admin/startup/fl_admin.sh  \n",
      "  inflating: ../admin/startup/client.key  \n",
      "  inflating: ../admin/startup/rootCA.pem  \n",
      "  inflating: ../admin/startup/client.crt  \n",
      "  inflating: ../admin/startup/readme.txt  \n"
     ]
    }
   ],
   "source": [
    "%cd  $PROV_PATH\n",
    "!unzip -oP SBg20dnNlfoAt8sI server.zip -d ../server\n",
    "!unzip -oP nK423Ehs8pfIdY15 org1.zip -d ../org1\n",
    "!unzip -oP VXAzDgx86Ry1N2h9 admin@nvidia.com.zip -d ../admin"
   ]
  },
  {
   "cell_type": "markdown",
   "metadata": {
    "pycharm": {
     "metadata": false
    }
   },
   "source": [
    "### 4. Double check on rights before sending kits to clients\n",
    "\n",
    "As you may notice creating users and rights could be a bit tricky with large number of clients (20+).\n",
    "Specially if each client has different requirements. \n",
    "In order to make this task a bit easier, \n",
    "we have created a checking tool where you pass the authorization.json, \n",
    "then check that it is doing what you intended to do.\n",
    "\n",
    "In order to validate this you can use the shell tool as \n",
    "```\n",
    "cd /claraDevDay/FL/project1/server/startup\n",
    "authz_preview -p authorization.json\n",
    "```  \n",
    "\n",
    "This would open an interactive prompt. You can type `?` to see list of commands as \n",
    "\n",
    "```\n",
    ">?\n",
    "\n",
    "Documented commands (type help <topic>):\n",
    "========================================\n",
    "bye  help\n",
    "\n",
    "Undocumented commands:\n",
    "======================\n",
    "eval_right  eval_user    show_rights  show_site_rules  show_users\n",
    "eval_rule   show_config  show_rules   show_sites     \n",
    "```\n"
   ]
  },
  {
   "cell_type": "markdown",
   "metadata": {
    "pycharm": {
     "metadata": false
    }
   },
   "source": [
    "You can use `show_users` to find all users as \n",
    "```\n",
    "------------------------------------------------------\n",
    "| USER                    | ORG    | ROLES           |\n",
    "------------------------------------------------------\n",
    "| admin@admin.com         | nvidia | super           |\n",
    "| leadIT@org1.com         | org1   | lead_researcher |\n",
    "| siteresearcher@org2.com | org2   | site_researcher |\n",
    "| leadIT@secure.com       | Secure | only4secure     |\n",
    "------------------------------------------------------\n",
    "```"
   ]
  },
  {
   "cell_type": "markdown",
   "metadata": {
    "pycharm": {
     "metadata": false
    }
   },
   "source": [
    "Then in order to see rules for a certain site you can type <br>\n",
    "`eval_user <user> <org name>`\n",
    "for example: <br> \n",
    "`eval_user admin@admin.com server`\n",
    "you should see something similar to \n",
    "```\n",
    "-------------------------\n",
    "| RIGHT        | RESULT |\n",
    "-------------------------\n",
    "| upload_mmar  | True   |\n",
    "| deploy_self  | False  |\n",
    "| deploy_all   | False  |\n",
    "| train_self   | False  |\n",
    "| train_all    | False  |\n",
    "| view_self    | False  |\n",
    "| view_all     | False  |\n",
    "| operate_all  | False  |\n",
    "| operate_self | False  |\n",
    "-------------------------\n",
    "```"
   ]
  },
  {
   "cell_type": "markdown",
   "metadata": {
    "pycharm": {
     "metadata": false
    }
   },
   "source": [
    "In our sample client4 doens't allow anyone to upload any mmars. You can check by \n",
    "`eval_user leadIT@org1.com client4`\n",
    "vs `eval_user leadIT@org1.com client1`\n",
    "\n",
    "but user `leadIT@secure.com` can upload to client4. You can check by \n",
    "`eval_user leadIT@secure.com client4`"
   ]
  },
  {
   "cell_type": "markdown",
   "metadata": {
    "pycharm": {
     "metadata": false
    }
   },
   "source": [
    "You could also verify only one specific right using \n",
    "```\n",
    "eval_right leadIT@org1.com deploy_self client4\n",
    "```\n"
   ]
  },
  {
   "cell_type": "markdown",
   "metadata": {
    "pycharm": {
     "metadata": false
    }
   },
   "source": [
    "# Next steps \n",
    "1. You should run the [admin notebook](Admin.ipynb) to start your FL experiment.\n",
    "2. You may want to take a look at the [client notebook](Client.ipynb)\n",
    "\n"
   ]
  },
  {
   "cell_type": "markdown",
   "metadata": {
    "pycharm": {
     "metadata": false
    }
   },
   "source": [
    "# Exercise \n",
    "\n",
    "1. Provision your own FL experiment. For this you should \n",
    "    1. got back to cell2 and which displays the FLprovUI.html page \n",
    "    2. Make changes modify it with your client names and emails\n",
    "    2. Get your server host name using any of the commands below \n",
    "    ```\n",
    "    hostname\n",
    "    hostnamectl\n",
    "    cat /proc/sys/kernel/hostname\n",
    "    ```\n",
    "    3. In the yml file change the cn name to the server name as \n",
    "    ```\n",
    "    server:\n",
    "      cn: <your server name >\n",
    "    ``` \n",
    "    4. Click generate artifacts \n",
    "    5. Save `provision.yml` and `authz_config.json` for your new project \n",
    "    6. Continue steps in the notebook "
   ]
  }
 ],
 "metadata": {
  "kernelspec": {
   "display_name": "Python 3",
   "language": "python",
   "name": "python3"
  },
  "language_info": {
   "codemirror_mode": {
    "name": "ipython",
    "version": 3
   },
   "file_extension": ".py",
   "mimetype": "text/x-python",
   "name": "python",
   "nbconvert_exporter": "python",
   "pygments_lexer": "ipython3",
   "version": "3.8.8"
  },
  "stem_cell": {
   "cell_type": "raw",
   "metadata": {
    "pycharm": {
     "metadata": false
    }
   },
   "source": "<!--- SPDX-License-Identifier: Apache-2.0 -->\n"
  }
 },
 "nbformat": 4,
 "nbformat_minor": 4
}
