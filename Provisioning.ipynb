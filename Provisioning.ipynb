{
 "cells": [
  {
   "cell_type": "code",
   "execution_count": null,
   "metadata": {
    "pycharm": {
     "metadata": false,
     "name": "#%%\n"
    }
   },
   "outputs": [],
   "source": [
    "def listDirs(newMMARDir):\n",
    "    !ls $newMMARDir\n",
    "    !echo ----config\n",
    "    !ls $newMMARDir/config\n",
    "    !echo ----commands\n",
    "    !ls $newMMARDir/commands\n",
    "def printFile(filePath,lnSt,lnOffset):\n",
    "    print (\"showing \",str(lnOffset),\" lines from file \",filePath, \"starting at line\",str(lnSt))\n",
    "    lnOffset=lnSt+lnOffset\n",
    "    !< $filePath head -n \"$lnOffset\" | tail -n +\"$lnSt\"   "
   ]
  },
  {
   "cell_type": "code",
   "execution_count": null,
   "metadata": {
    "pycharm": {
     "metadata": false,
     "name": "#%% \n"
    }
   },
   "outputs": [],
   "source": [
    "import IPython\n",
    "IPython.display.IFrame('./provisioning_ui.html',width=850,height=700)"
   ]
  },
  {
   "cell_type": "markdown",
   "metadata": {
    "pycharm": {
     "metadata": false
    }
   },
   "source": [
    "### 2 Run Provisioning tool \n",
    "For simplicity we have included a project1.yaml and project1auth.json files for you to use in this notebook.\n",
    "In order to see their content simply run cell below "
   ]
  },
  {
   "cell_type": "code",
   "execution_count": null,
   "metadata": {},
   "outputs": [],
   "source": [
    "!pwd"
   ]
  },
  {
   "cell_type": "code",
   "execution_count": null,
   "metadata": {
    "pycharm": {
     "metadata": false,
     "name": "#%%\n"
    }
   },
   "outputs": [],
   "source": [
    "MMAR_ROOT=\"/mount/src/clara/Clara_hands-on/NVFlare/with_provision/\"\n",
    "PROV_DIR=\"provisioning\"\n",
    "PROJ_NAME=\"test\"\n",
    "\n",
    "printFile(MMAR_ROOT+PROJ_NAME+\".yml\",0,50)"
   ]
  },
  {
   "cell_type": "markdown",
   "metadata": {
    "pycharm": {
     "metadata": false
    }
   },
   "source": [
    "\n",
    "### 2.1 Run provisioning tool\n",
    "Cell below show help on how to use the cli for the provisioning tool "
   ]
  },
  {
   "cell_type": "code",
   "execution_count": null,
   "metadata": {
    "pycharm": {
     "metadata": false,
     "name": "#%%\n"
    }
   },
   "outputs": [],
   "source": [
    "!provision -h"
   ]
  },
  {
   "cell_type": "code",
   "execution_count": null,
   "metadata": {
    "pycharm": {
     "metadata": false,
     "name": "#%%\n"
    }
   },
   "outputs": [],
   "source": [
    "%cd $MMAR_ROOT\n",
    "!rm -r $PROJ_NAME\n",
    "%mkdir -p $PROJ_NAME/$PROV_DIR"
   ]
  },
  {
   "cell_type": "code",
   "execution_count": null,
   "metadata": {
    "pycharm": {
     "metadata": false,
     "name": "#%%\n"
    }
   },
   "outputs": [],
   "source": [
    "PROJ_PATH=MMAR_ROOT+PROJ_NAME+\"/\"\n",
    "PROV_PATH=PROJ_PATH+PROV_DIR+\"/\"\n",
    "%cd $PROJ_PATH\n",
    "!provision -p $MMAR_ROOT/$PROJ_NAME'.yml' -o $PROV_DIR"
   ]
  },
  {
   "cell_type": "markdown",
   "metadata": {
    "pycharm": {
     "metadata": false
    }
   },
   "source": [
    "### 3. Send startup kits to participants\n",
    "In a real experiment, you would send packages to each site so they would run it on their system. \n",
    "Here we would extract and simulate a server, 3 clients and an admin all in this tutorial. \n",
    "\n",
    "Cell above should have printed out passwords for each package. \n",
    "You should replace the password from above cell to the corresponding file in cell below "
   ]
  },
  {
   "cell_type": "code",
   "execution_count": null,
   "metadata": {
    "pycharm": {
     "metadata": false,
     "name": "#%%\n"
    }
   },
   "outputs": [],
   "source": [
    "%cd  $PROV_PATH\n",
    "!unzip -oP SBg20dnNlfoAt8sI server.zip -d ../server\n",
    "!unzip -oP nK423Ehs8pfIdY15 org1.zip -d ../org1\n",
    "!unzip -oP VXAzDgx86Ry1N2h9 admin@nvidia.com.zip -d ../admin"
   ]
  },
  {
   "cell_type": "code",
   "execution_count": null,
   "metadata": {},
   "outputs": [],
   "source": []
  }
 ],
 "metadata": {
  "kernelspec": {
   "display_name": "Python 3 (ipykernel)",
   "language": "python",
   "name": "python3"
  },
  "language_info": {
   "codemirror_mode": {
    "name": "ipython",
    "version": 3
   },
   "file_extension": ".py",
   "mimetype": "text/x-python",
   "name": "python",
   "nbconvert_exporter": "python",
   "pygments_lexer": "ipython3",
   "version": "3.8.10"
  },
  "stem_cell": {
   "cell_type": "raw",
   "metadata": {
    "pycharm": {
     "metadata": false
    }
   },
   "source": "<!--- SPDX-License-Identifier: Apache-2.0 -->\n"
  }
 },
 "nbformat": 4,
 "nbformat_minor": 4
}
